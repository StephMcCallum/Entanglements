{
 "cells": [
  {
   "cell_type": "code",
   "execution_count": 1,
   "id": "da3897b8-561b-4ea4-a164-f20b92a37547",
   "metadata": {},
   "outputs": [],
   "source": [
    "import numpy as np\n",
    "import signac\n",
    "import hoomd\n",
    "import gsd.hoomd"
   ]
  },
  {
   "cell_type": "code",
   "execution_count": 2,
   "id": "a025dc46-d7b9-42b0-baf8-2d19ed8c2e55",
   "metadata": {},
   "outputs": [],
   "source": [
    "project = signac.get_project(\"/home/stephaniemccallu/scratch/Entanglements\")"
   ]
  },
  {
   "cell_type": "code",
   "execution_count": 5,
   "id": "7561ddfb-a011-4fc6-9625-5f35ae27cf0e",
   "metadata": {},
   "outputs": [],
   "source": [
    "def relabel_center_gsd(job, start=0, stop=None, stride=1):\n",
    "    \"\"\"\n",
    "    length = length of molecules\n",
    "    chains = number of chains in the system\n",
    "    \"\"\"\n",
    "    gsd_file = job.fn(\"production.gsd\")\n",
    "    mid_chunk = np.array(range(job.doc.lengths//2 - 2, job.doc.lengths//2 + 3))\n",
    "    all_chain_mid_indices = np.array([mid_chunk + job.doc.lengths * i for i in range(job.doc.num_mols)])\n",
    "\n",
    "    original_traj = gsd.hoomd.open(gsd_file)\n",
    "    with gsd.hoomd.open(job.fn(\"new_traj.gsd\"), \"w\") as new_traj:\n",
    "        for frame in original_traj[start:stop:stride]:\n",
    "            frame.particles.types.append(\"B\")\n",
    "            old_ids = np.copy(frame.particles.typeid)\n",
    "            for chunk in all_chain_mid_indices:\n",
    "                 old_ids[chunk] = 1\n",
    "            frame.particles.typeid = old_ids\n",
    "            new_traj.append(frame)\n",
    "    "
   ]
  },
  {
   "cell_type": "code",
   "execution_count": 9,
   "id": "38625fec-4285-4647-ad71-0336e6b3b130",
   "metadata": {},
   "outputs": [
    {
     "name": "stdout",
     "output_type": "stream",
     "text": [
      "/home/stephaniemccallu/scratch/Entanglements/workspace/709e873d95982e2c7d48c8ff2f7836e9\n",
      "/home/stephaniemccallu/scratch/Entanglements/workspace/0fef6f5d6b45614c995e7714c8b14f9f\n",
      "/home/stephaniemccallu/scratch/Entanglements/workspace/bb60a2a949607785374583f9538aaac1\n",
      "/home/stephaniemccallu/scratch/Entanglements/workspace/89314312f609e3eb0cc905187d4092a2\n",
      "/home/stephaniemccallu/scratch/Entanglements/workspace/7b9c1fbdb08258bc6f94869866ab8051\n",
      "/home/stephaniemccallu/scratch/Entanglements/workspace/101f829356e885ab16664b76406d3146\n",
      "/home/stephaniemccallu/scratch/Entanglements/workspace/cbaf2f651dbac0cfed8ba352e82b41e9\n"
     ]
    }
   ],
   "source": [
    "for job in project.find_jobs():\n",
    "    if job.isfile(\"production.gsd\"):\n",
    "        relabel_center_gsd(job)\n",
    "        print(job.path)"
   ]
  },
  {
   "cell_type": "markdown",
   "id": "c975913d-0f97-44ef-a505-e3dd886f4819",
   "metadata": {},
   "source": [
    "## Help from Chris"
   ]
  },
  {
   "cell_type": "code",
   "execution_count": null,
   "id": "b5abb197-10b0-4f09-bb54-d62639f3b959",
   "metadata": {},
   "outputs": [],
   "source": [
    "num_chains = 50\n",
    "chain_lengths = 100\n",
    "# Place holder as an example of particle indices with num_chains of chain_lengths\n",
    "particle_indices = np.arange(0, num_chains*chain_lengths, 1)\n",
    "\n",
    "# We want just the middle indices (48, 49, 50, 51, 52)\n",
    "# These should increment by the chain_length, so the next set of particle indices should be 148, 149, 150, 151, 152\n",
    "# Let's create a variable that defines what the middle indices are as a function of chain length\n",
    "# We have to add an extra 1 on the end because usually, when indexing, the last index isn't used.\n",
    "mid_chunk = np.array(range(chain_lengths//2 - 2, chain_lengths//2 + 3))\n",
    "\n",
    "# Let's check and see if we get what we expect. For 100mers, we want indices 50 +/- 2, so [48, 49, 50, 51, 52]\n",
    "particle_indices[mid_chunk]"
   ]
  },
  {
   "cell_type": "code",
   "execution_count": null,
   "id": "11831a25-cd98-4feb-93e0-c8ffa44a1fb2",
   "metadata": {},
   "outputs": [],
   "source": [
    "# Now, let's do this same thing, but bump up each group of 5 indices by the correct amount\n",
    "# In the first instance of this for loop, i is 0, so we get the starting mid chunk indices --> mid_chunk + (chain_length * 0)\n",
    "# In the next instance of the for loop i=1, so we get -->  mid_chunk + (chain_length * 1)\n",
    "# In the next instance...we get mid_chunk + (chain_length * 2) and so on\n",
    "all_chain_mid_indices = np.array([mid_chunk + chain_lengths * i for i in range(num_chains)])\n",
    "\n",
    "# Let's check all_chain_mid_indices and see if we get what we expect.\n",
    "# We want 48, 49, 50, 51, 52 increasing by 100 (chain_lengths) 50 times (num_chains)\n",
    "print(len(all_chain_mid_indices))\n",
    "print(\"---------------------\")\n",
    "for i in all_chain_mid_indices:\n",
    "    print(i)"
   ]
  },
  {
   "cell_type": "code",
   "execution_count": null,
   "id": "fd20fbca-3a90-42ad-bab4-598060067504",
   "metadata": {},
   "outputs": [],
   "source": [
    "old_ids = np.copy(original_traj.particles.typeid)\n",
    "for chunk in all_chain_mid_indices:\n",
    "     old_ids[chunk] = 1\n",
    "\n",
    "frame.particles.typeid = old_ids\n",
    "new_traj.append(frame)"
   ]
  }
 ],
 "metadata": {
  "kernelspec": {
   "display_name": "Python 3 (ipykernel)",
   "language": "python",
   "name": "python3"
  },
  "language_info": {
   "codemirror_mode": {
    "name": "ipython",
    "version": 3
   },
   "file_extension": ".py",
   "mimetype": "text/x-python",
   "name": "python",
   "nbconvert_exporter": "python",
   "pygments_lexer": "ipython3",
   "version": "3.11.0"
  }
 },
 "nbformat": 4,
 "nbformat_minor": 5
}
