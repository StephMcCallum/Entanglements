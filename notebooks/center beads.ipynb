{
 "cells": [
  {
   "cell_type": "code",
   "execution_count": 1,
   "id": "da3897b8-561b-4ea4-a164-f20b92a37547",
   "metadata": {},
   "outputs": [],
   "source": [
    "import numpy as np\n",
    "import signac\n",
    "import hoomd\n",
    "import gsd.hoomd"
   ]
  },
  {
   "cell_type": "code",
   "execution_count": 2,
   "id": "a025dc46-d7b9-42b0-baf8-2d19ed8c2e55",
   "metadata": {},
   "outputs": [],
   "source": [
    "project = signac.get_project(\"../\")"
   ]
  },
  {
   "cell_type": "code",
   "execution_count": 7,
   "id": "7561ddfb-a011-4fc6-9625-5f35ae27cf0e",
   "metadata": {},
   "outputs": [],
   "source": [
    "def relabel_center_gsd(gsd_file,length,num_center_mol, start=0, stop=None, stride=1):\n",
    "    \"\"\"\n",
    "    length = length of molecules\n",
    "    num_center_mol = number of molecules from the bead (integer)\n",
    "    \"\"\"\n",
    "    print(\"function\")\n",
    "    original_traj = gsd.hoomd.open(gsd_file)\n",
    "\n",
    "    with gsd.hoomd.open(\"new_traj.gsd\", \"w\") as new_traj:\n",
    "        for frame in original_traj:\n",
    "            frame.particles.types.append(\"B\")\n",
    "            for pos in frame.particles.position[int(length/2)::length]: \n",
    "                start_bead = frame.particles.position[int(length/2)+num_center_mol]\n",
    "                print(start_bead)\n",
    "                stop_bead = frame.particles.position[int(length/2)-num_center_mol]\n",
    "            frame.particles.typeid[start_bead:stop_bead] = 1\n",
    "            new_traj.append(frame)\n",
    "    return(new_traj)"
   ]
  },
  {
   "cell_type": "code",
   "execution_count": 8,
   "id": "38625fec-4285-4647-ad71-0336e6b3b130",
   "metadata": {},
   "outputs": [
    {
     "name": "stdout",
     "output_type": "stream",
     "text": [
      "function\n",
      "success?\n",
      "[1.1652342 5.461268  3.7634277]\n",
      "[1.1652342 5.461268  3.7634277]\n",
      "[1.1652342 5.461268  3.7634277]\n",
      "[1.1652342 5.461268  3.7634277]\n",
      "[1.1652342 5.461268  3.7634277]\n",
      "[1.1652342 5.461268  3.7634277]\n",
      "[1.1652342 5.461268  3.7634277]\n",
      "[1.1652342 5.461268  3.7634277]\n",
      "[1.1652342 5.461268  3.7634277]\n",
      "[1.1652342 5.461268  3.7634277]\n",
      "[1.1652342 5.461268  3.7634277]\n",
      "[1.1652342 5.461268  3.7634277]\n",
      "[1.1652342 5.461268  3.7634277]\n",
      "[1.1652342 5.461268  3.7634277]\n",
      "[1.1652342 5.461268  3.7634277]\n",
      "[1.1652342 5.461268  3.7634277]\n",
      "[1.1652342 5.461268  3.7634277]\n",
      "[1.1652342 5.461268  3.7634277]\n",
      "[1.1652342 5.461268  3.7634277]\n",
      "[1.1652342 5.461268  3.7634277]\n",
      "[1.1652342 5.461268  3.7634277]\n",
      "[1.1652342 5.461268  3.7634277]\n",
      "[1.1652342 5.461268  3.7634277]\n",
      "[1.1652342 5.461268  3.7634277]\n",
      "[1.1652342 5.461268  3.7634277]\n",
      "[1.1652342 5.461268  3.7634277]\n",
      "[1.1652342 5.461268  3.7634277]\n",
      "[1.1652342 5.461268  3.7634277]\n",
      "[1.1652342 5.461268  3.7634277]\n",
      "[1.1652342 5.461268  3.7634277]\n",
      "[1.1652342 5.461268  3.7634277]\n",
      "[1.1652342 5.461268  3.7634277]\n",
      "[1.1652342 5.461268  3.7634277]\n",
      "[1.1652342 5.461268  3.7634277]\n",
      "[1.1652342 5.461268  3.7634277]\n",
      "[1.1652342 5.461268  3.7634277]\n",
      "[1.1652342 5.461268  3.7634277]\n",
      "[1.1652342 5.461268  3.7634277]\n",
      "[1.1652342 5.461268  3.7634277]\n",
      "[1.1652342 5.461268  3.7634277]\n",
      "[1.1652342 5.461268  3.7634277]\n",
      "[1.1652342 5.461268  3.7634277]\n",
      "[1.1652342 5.461268  3.7634277]\n",
      "[1.1652342 5.461268  3.7634277]\n",
      "[1.1652342 5.461268  3.7634277]\n",
      "[1.1652342 5.461268  3.7634277]\n",
      "[1.1652342 5.461268  3.7634277]\n",
      "[1.1652342 5.461268  3.7634277]\n",
      "[1.1652342 5.461268  3.7634277]\n",
      "[1.1652342 5.461268  3.7634277]\n"
     ]
    },
    {
     "ename": "ValueError",
     "evalue": "assignment destination is read-only",
     "output_type": "error",
     "traceback": [
      "\u001b[0;31m---------------------------------------------------------------------------\u001b[0m",
      "\u001b[0;31mValueError\u001b[0m                                Traceback (most recent call last)",
      "Cell \u001b[0;32mIn[8], line 5\u001b[0m\n\u001b[1;32m      3\u001b[0m     \u001b[38;5;28;01mcontinue\u001b[39;00m\n\u001b[1;32m      4\u001b[0m gsd_file \u001b[38;5;241m=\u001b[39m job\u001b[38;5;241m.\u001b[39mfn(\u001b[38;5;124m\"\u001b[39m\u001b[38;5;124mproduction.gsd\u001b[39m\u001b[38;5;124m\"\u001b[39m)\n\u001b[0;32m----> 5\u001b[0m new_gsd \u001b[38;5;241m=\u001b[39m (\u001b[43mrelabel_center_gsd\u001b[49m\u001b[43m(\u001b[49m\u001b[43mgsd_file\u001b[49m\u001b[43m,\u001b[49m\u001b[43mlength\u001b[49m\u001b[38;5;241;43m=\u001b[39;49m\u001b[43mjob\u001b[49m\u001b[38;5;241;43m.\u001b[39;49m\u001b[43mdoc\u001b[49m\u001b[38;5;241;43m.\u001b[39;49m\u001b[43mlengths\u001b[49m\u001b[43m,\u001b[49m\u001b[43mnum_center_mol\u001b[49m\u001b[38;5;241;43m=\u001b[39;49m\u001b[38;5;241;43m2\u001b[39;49m\u001b[43m)\u001b[49m)\n",
      "Cell \u001b[0;32mIn[7], line 18\u001b[0m, in \u001b[0;36mrelabel_center_gsd\u001b[0;34m(gsd_file, length, num_center_mol, start, stop, stride)\u001b[0m\n\u001b[1;32m     16\u001b[0m             \u001b[38;5;28mprint\u001b[39m(start_bead)\n\u001b[1;32m     17\u001b[0m             stop_bead \u001b[38;5;241m=\u001b[39m frame\u001b[38;5;241m.\u001b[39mparticles\u001b[38;5;241m.\u001b[39mposition[\u001b[38;5;28mint\u001b[39m(length\u001b[38;5;241m/\u001b[39m\u001b[38;5;241m2\u001b[39m)\u001b[38;5;241m-\u001b[39mnum_center_mol]\n\u001b[0;32m---> 18\u001b[0m         \u001b[43mframe\u001b[49m\u001b[38;5;241;43m.\u001b[39;49m\u001b[43mparticles\u001b[49m\u001b[38;5;241;43m.\u001b[39;49m\u001b[43mtypeid\u001b[49m\u001b[43m[\u001b[49m\u001b[43mstart_bead\u001b[49m\u001b[43m:\u001b[49m\u001b[43mstop_bead\u001b[49m\u001b[43m]\u001b[49m \u001b[38;5;241m=\u001b[39m \u001b[38;5;241m1\u001b[39m\n\u001b[1;32m     19\u001b[0m         new_traj\u001b[38;5;241m.\u001b[39mappend(frame)\n\u001b[1;32m     20\u001b[0m \u001b[38;5;250m\u001b[39m\u001b[38;5;124;03m'''\u001b[39;00m\n\u001b[1;32m     21\u001b[0m \u001b[38;5;124;03mwith gsd.hoomd.open(gsd_file,'w') as traj:\u001b[39;00m\n\u001b[1;32m     22\u001b[0m \u001b[38;5;124;03m    print(\"open\")\u001b[39;00m\n\u001b[0;32m   (...)\u001b[0m\n\u001b[1;32m     31\u001b[0m \u001b[38;5;124;03m        print(\"snap\")\u001b[39;00m\n\u001b[1;32m     32\u001b[0m \u001b[38;5;124;03m        '''\u001b[39;00m\n",
      "\u001b[0;31mValueError\u001b[0m: assignment destination is read-only"
     ]
    }
   ],
   "source": [
    "for job in project.find_jobs():\n",
    "    if job.doc.runs != 1:\n",
    "        continue\n",
    "    gsd_file = job.fn(\"production.gsd\")\n",
    "    new_gsd = (relabel_center_gsd(gsd_file,length=job.doc.lengths,num_center_mol=2))"
   ]
  },
  {
   "cell_type": "code",
   "execution_count": null,
   "id": "b5abb197-10b0-4f09-bb54-d62639f3b959",
   "metadata": {},
   "outputs": [],
   "source": []
  }
 ],
 "metadata": {
  "kernelspec": {
   "display_name": "Python 3 (ipykernel)",
   "language": "python",
   "name": "python3"
  },
  "language_info": {
   "codemirror_mode": {
    "name": "ipython",
    "version": 3
   },
   "file_extension": ".py",
   "mimetype": "text/x-python",
   "name": "python",
   "nbconvert_exporter": "python",
   "pygments_lexer": "ipython3",
   "version": "3.11.0"
  }
 },
 "nbformat": 4,
 "nbformat_minor": 5
}
