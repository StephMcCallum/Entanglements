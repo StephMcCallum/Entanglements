{
 "cells": [
  {
   "cell_type": "code",
   "execution_count": 24,
   "id": "da57929b-faa0-48ff-91a0-a04d9efd7bee",
   "metadata": {},
   "outputs": [],
   "source": [
    "import matplotlib.pyplot as plt\n",
    "import numpy as np\n",
    "import signac\n",
    "\n",
    "from cmeutils.sampling import is_equilibrated"
   ]
  },
  {
   "cell_type": "code",
   "execution_count": 25,
   "id": "0b32087b-14e3-4736-bcaf-5d169a93c9c3",
   "metadata": {},
   "outputs": [],
   "source": [
    "project = signac.get_project()"
   ]
  },
  {
   "cell_type": "code",
   "execution_count": 26,
   "id": "77694bea-8a64-4e7e-8f39-90328d9adfc1",
   "metadata": {},
   "outputs": [],
   "source": [
    "# We don't want to include the shrinking portion of the trajectory's data\n",
    "shrink_cut = 5000\n",
    "\n",
    "for job in project.find_jobs():\n",
    "    if job.doc.runs == 0: # Don't try to test for jobs that haven't finished their initial run\n",
    "        continue\n",
    "    log = np.genfromtxt(job.fn(f\"log{job.doc.runs - 1}.txt\"), names=True)\n",
    "    pe = log[\"mdcomputeThermodynamicQuantitiespotential_energy\"]\n",
    "    # equil: bool (True or False), t0: int (starting data point that you can sample from), neff: number of data points in equilibrated region\n",
    "    equil, t0, g, neff = is_equilibrated(data=pe[shrink_cut:], threshold_neff=200) \n",
    "    if equil:\n",
    "        # Update the job's document file\n",
    "        # We want job.doc to be True to signal the \"production\" signac operation in project.py the next time we submit this job\n",
    "        job.doc.equilibrated = True\n",
    "    else:\n",
    "        # If it's not equilibrated, job.doc.equilibrated stays false, and the \"run-longer\" operation in project.py will run next time we submit this job\n",
    "        print(job.id)\n",
    "        print(t0, g, neff)\n",
    "        print()"
   ]
  },
  {
   "cell_type": "code",
   "execution_count": 27,
   "id": "fecd9f8b-ae3c-4cdf-b88f-30580b18384d",
   "metadata": {},
   "outputs": [
    {
     "name": "stdout",
     "output_type": "stream",
     "text": [
      "709e873d95982e2c7d48c8ff2f7836e9\n",
      "False\n",
      "\n",
      "0fef6f5d6b45614c995e7714c8b14f9f\n",
      "False\n",
      "\n",
      "bb60a2a949607785374583f9538aaac1\n",
      "False\n",
      "\n",
      "89314312f609e3eb0cc905187d4092a2\n",
      "True\n",
      "\n",
      "7b9c1fbdb08258bc6f94869866ab8051\n",
      "False\n",
      "\n",
      "101f829356e885ab16664b76406d3146\n",
      "False\n",
      "\n",
      "cbaf2f651dbac0cfed8ba352e82b41e9\n",
      "False\n",
      "\n",
      "ac136cb586722d58bcbc04e332dd1892\n",
      "False\n",
      "\n"
     ]
    }
   ],
   "source": [
    "for job in project:\n",
    "    print(job.id)\n",
    "    print(job.doc.equilibrated)\n",
    "    print()"
   ]
  },
  {
   "cell_type": "code",
   "execution_count": null,
   "id": "7e7e831d-940e-49e9-b6fe-fa339207e8ea",
   "metadata": {},
   "outputs": [],
   "source": []
  }
 ],
 "metadata": {
  "kernelspec": {
   "display_name": "Python 3 (ipykernel)",
   "language": "python",
   "name": "python3"
  },
  "language_info": {
   "codemirror_mode": {
    "name": "ipython",
    "version": 3
   },
   "file_extension": ".py",
   "mimetype": "text/x-python",
   "name": "python",
   "nbconvert_exporter": "python",
   "pygments_lexer": "ipython3",
   "version": "3.11.10"
  }
 },
 "nbformat": 4,
 "nbformat_minor": 5
}
