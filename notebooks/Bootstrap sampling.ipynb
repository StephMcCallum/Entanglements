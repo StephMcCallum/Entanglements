{
 "cells": [
  {
   "cell_type": "code",
   "execution_count": 1,
   "id": "5c41d64f-8375-46e8-8219-74c6adf85b51",
   "metadata": {},
   "outputs": [],
   "source": [
    "import numpy as np\n",
    "import signac\n",
    "import hoomd\n",
    "import gsd.hoomd\n",
    "import random"
   ]
  },
  {
   "cell_type": "code",
   "execution_count": 2,
   "id": "d6fcb679-121a-4bec-aad1-d25e5105484b",
   "metadata": {},
   "outputs": [],
   "source": [
    "project = signac.get_project(\"/home/stephaniemccallu/scratch/Entanglements\")"
   ]
  },
  {
   "cell_type": "code",
   "execution_count": 11,
   "id": "9f893120-0b30-4169-8eee-8acff10fb241",
   "metadata": {},
   "outputs": [],
   "source": [
    "def bootstrap_msd(job, start=0, stop=None, stride=1):\n",
    "    \"\"\"\n",
    "    length = length of molecules\n",
    "    chains = number of chains in the system\n",
    "    \"\"\"\n",
    "    steps_per_frame = int(5e5)\n",
    "    ts = job.doc.real_time_step * 1e-15\n",
    "    ts_frame = steps_per_frame * ts\n",
    "    rand_list = []\n",
    "    msd_list = []\n",
    "    n = 10\n",
    "    for i in range(n):\n",
    "        rand_list.append(random.randint(0,199))   \n",
    "        msd = msd_from_gsd(\n",
    "            gsdfile=job.fn(\"production3-center.gsd\"),\n",
    "            start=rand_list[i],\n",
    "            stop=(rand_list[i]+200),\n",
    "            atom_types=\"B\",\n",
    "            msd_mode=\"direct\")\n",
    "            msd_results = np.copy(msd.msd)\n",
    "            msd_list.append(msd_results)\n",
    "    msd_avg = np.mean(msd_list)\n",
    "    conv_factor = job.doc.ref_length**2\n",
    "    job.doc.msd_units = \"nm**2\"\n",
    "    msd_avg *= conv_factor\n",
    "    time_array = np.arange(0, len(msd.msd), 1) * ts_frame\n",
    "    np.save(file=job.fn(\"msd_time_bs.npy\"), arr=time_array)\n",
    "    np.save(file=job.fn(\"msd_data_real_nm_squared_bs.npy\"), arr=msd_avg)\n",
    "    np.save(file=job.fn(\"msd_data_reduced_bs.npy\"), arr=msd.msd)"
   ]
  },
  {
   "cell_type": "code",
   "execution_count": 9,
   "id": "fd344a0a-9bac-4b82-a747-8187852d1a6c",
   "metadata": {},
   "outputs": [
    {
     "name": "stdout",
     "output_type": "stream",
     "text": [
      "400\n",
      "/home/stephaniemccallu/scratch/Entanglements/workspace/709e873d95982e2c7d48c8ff2f7836e9\n",
      "400\n",
      "/home/stephaniemccallu/scratch/Entanglements/workspace/0fef6f5d6b45614c995e7714c8b14f9f\n",
      "400\n",
      "/home/stephaniemccallu/scratch/Entanglements/workspace/bb60a2a949607785374583f9538aaac1\n",
      "400\n",
      "/home/stephaniemccallu/scratch/Entanglements/workspace/89314312f609e3eb0cc905187d4092a2\n",
      "400\n",
      "/home/stephaniemccallu/scratch/Entanglements/workspace/7b9c1fbdb08258bc6f94869866ab8051\n",
      "400\n",
      "/home/stephaniemccallu/scratch/Entanglements/workspace/101f829356e885ab16664b76406d3146\n",
      "400\n",
      "/home/stephaniemccallu/scratch/Entanglements/workspace/cbaf2f651dbac0cfed8ba352e82b41e9\n"
     ]
    }
   ],
   "source": [
    "for job in project.find_jobs():\n",
    "    if job.isfile(\"production3-center.gsd\"):\n",
    "        bootstrap_msd(job)"
   ]
  },
  {
   "cell_type": "code",
   "execution_count": null,
   "id": "e961ce27-2115-43ec-917b-b2ebb40c6b9b",
   "metadata": {},
   "outputs": [],
   "source": []
  }
 ],
 "metadata": {
  "kernelspec": {
   "display_name": "Python 3 (ipykernel)",
   "language": "python",
   "name": "python3"
  },
  "language_info": {
   "codemirror_mode": {
    "name": "ipython",
    "version": 3
   },
   "file_extension": ".py",
   "mimetype": "text/x-python",
   "name": "python",
   "nbconvert_exporter": "python",
   "pygments_lexer": "ipython3",
   "version": "3.11.0"
  }
 },
 "nbformat": 4,
 "nbformat_minor": 5
}
